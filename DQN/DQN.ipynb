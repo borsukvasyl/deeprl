{
 "cells": [
  {
   "cell_type": "markdown",
   "metadata": {},
   "source": [
    "# Deep Q Learning"
   ]
  },
  {
   "cell_type": "code",
   "execution_count": 1,
   "metadata": {
    "ExecuteTime": {
     "end_time": "2018-10-15T10:46:23.686201Z",
     "start_time": "2018-10-15T10:46:22.518951Z"
    }
   },
   "outputs": [],
   "source": [
    "from __future__ import absolute_import\n",
    "from __future__ import division\n",
    "from __future__ import print_function\n",
    "\n",
    "import numpy as np\n",
    "import matplotlib.pyplot as plt\n",
    "import tensorflow as tf\n",
    "from collections import deque\n",
    "import random\n",
    "\n",
    "import gym"
   ]
  },
  {
   "cell_type": "code",
   "execution_count": 2,
   "metadata": {
    "ExecuteTime": {
     "end_time": "2018-10-15T10:46:23.705869Z",
     "start_time": "2018-10-15T10:46:23.688622Z"
    }
   },
   "outputs": [],
   "source": [
    "RANDOM_SEED = 40\n",
    "\n",
    "random.seed(RANDOM_SEED)\n",
    "np.random.seed(RANDOM_SEED)\n",
    "tf.set_random_seed(RANDOM_SEED)"
   ]
  },
  {
   "cell_type": "code",
   "execution_count": 3,
   "metadata": {
    "ExecuteTime": {
     "end_time": "2018-10-15T10:46:23.722667Z",
     "start_time": "2018-10-15T10:46:23.710211Z"
    }
   },
   "outputs": [
    {
     "name": "stdout",
     "output_type": "stream",
     "text": [
      "Action space size: 2\n",
      "State space size: 4\n"
     ]
    }
   ],
   "source": [
    "env = gym.make(\"CartPole-v0\")\n",
    "\n",
    "a_size = env.action_space.n\n",
    "s_size = env.observation_space.shape[0]\n",
    "print(\"Action space size: {}\".format(a_size))\n",
    "print(\"State space size: {}\".format(s_size))\n",
    "\n",
    "possible_actions = np.identity(a_size)"
   ]
  },
  {
   "cell_type": "code",
   "execution_count": 4,
   "metadata": {
    "ExecuteTime": {
     "end_time": "2018-10-15T10:46:23.736328Z",
     "start_time": "2018-10-15T10:46:23.726289Z"
    }
   },
   "outputs": [],
   "source": [
    "class DQNetwork(object):\n",
    "    def __init__(self, s_size, a_size):\n",
    "        self.s_size = s_size\n",
    "        self.a_size = a_size\n",
    "        \n",
    "        self.states = tf.placeholder(shape=[None, self.s_size], dtype=tf.float32)\n",
    "        self.dense = tf.layers.dense(inputs=self.states, units=20, activation=tf.nn.tanh)\n",
    "        self.Qout = tf.layers.dense(inputs=self.dense, units=self.a_size)\n",
    "        self.predict = tf.argmax(self.Qout, 1)\n",
    "\n",
    "        self.Qtarget = tf.placeholder(shape=[None], dtype=tf.float32)\n",
    "        self.action = tf.placeholder(shape=[None ,self.a_size], dtype=tf.float32)\n",
    "        Q = tf.reduce_sum(tf.multiply(self.Qout, self.action), axis=1)\n",
    "        self.loss = tf.reduce_mean(tf.square(self.Qtarget - Q))\n",
    "        trainer = tf.train.AdamOptimizer(learning_rate=0.01)\n",
    "        self.optimize = trainer.minimize(self.loss)"
   ]
  },
  {
   "cell_type": "code",
   "execution_count": 5,
   "metadata": {
    "ExecuteTime": {
     "end_time": "2018-10-15T10:46:23.930825Z",
     "start_time": "2018-10-15T10:46:23.739730Z"
    }
   },
   "outputs": [],
   "source": [
    "tf.reset_default_graph()\n",
    "\n",
    "network = DQNetwork(s_size, a_size)\n",
    "init = tf.global_variables_initializer()"
   ]
  },
  {
   "cell_type": "code",
   "execution_count": 6,
   "metadata": {
    "ExecuteTime": {
     "end_time": "2018-10-15T10:46:23.964980Z",
     "start_time": "2018-10-15T10:46:23.932915Z"
    }
   },
   "outputs": [],
   "source": [
    "sess = tf.Session()\n",
    "sess.run(init)"
   ]
  },
  {
   "cell_type": "code",
   "execution_count": 7,
   "metadata": {
    "ExecuteTime": {
     "end_time": "2018-10-15T10:47:00.895373Z",
     "start_time": "2018-10-15T10:46:23.967276Z"
    }
   },
   "outputs": [
    {
     "name": "stderr",
     "output_type": "stream",
     "text": [
      "/home/vasiko/anaconda3/envs/py36rl/lib/python3.6/site-packages/numpy/core/fromnumeric.py:2920: RuntimeWarning: Mean of empty slice.\n",
      "  out=out, **kwargs)\n",
      "/home/vasiko/anaconda3/envs/py36rl/lib/python3.6/site-packages/numpy/core/_methods.py:85: RuntimeWarning: invalid value encountered in double_scalars\n",
      "  ret = ret.dtype.type(ret / rcount)\n"
     ]
    },
    {
     "name": "stdout",
     "output_type": "stream",
     "text": [
      "EPIDOSE 00000: nan\n",
      "EPIDOSE 00010: 16.444444444444443\n",
      "EPIDOSE 00020: 19.333333333333332\n",
      "EPIDOSE 00030: 36.55555555555556\n",
      "EPIDOSE 00040: 33.888888888888886\n",
      "EPIDOSE 00050: 45.0\n",
      "EPIDOSE 00060: 42.0\n",
      "EPIDOSE 00070: 40.77777777777778\n",
      "EPIDOSE 00080: 61.44444444444444\n",
      "EPIDOSE 00090: 45.666666666666664\n",
      "EPIDOSE 00100: 47.888888888888886\n",
      "EPIDOSE 00110: 43.77777777777778\n",
      "EPIDOSE 00120: 71.66666666666667\n",
      "EPIDOSE 00130: 105.44444444444444\n",
      "EPIDOSE 00140: 132.44444444444446\n",
      "EPIDOSE 00150: 128.33333333333334\n",
      "EPIDOSE 00160: 94.55555555555556\n",
      "EPIDOSE 00170: 55.333333333333336\n",
      "EPIDOSE 00180: 78.22222222222223\n",
      "EPIDOSE 00190: 107.0\n",
      "EPIDOSE 00200: 67.88888888888889\n",
      "EPIDOSE 00210: 51.111111111111114\n",
      "EPIDOSE 00220: 114.66666666666667\n",
      "EPIDOSE 00230: 129.66666666666666\n",
      "EPIDOSE 00240: 119.0\n",
      "EPIDOSE 00250: 108.44444444444444\n",
      "EPIDOSE 00260: 95.0\n",
      "EPIDOSE 00270: 89.88888888888889\n",
      "EPIDOSE 00280: 144.44444444444446\n",
      "EPIDOSE 00290: 130.55555555555554\n"
     ]
    }
   ],
   "source": [
    "gamma = 0.99\n",
    "n_steps = 2000\n",
    "e = 1\n",
    "e_decay = 0.995\n",
    "e_min = 0.1\n",
    "num_episodes = 300\n",
    "batch_size = 40\n",
    "\n",
    "rlist = []\n",
    "experience = deque(maxlen=2000)\n",
    "\n",
    "for episode in range(num_episodes):\n",
    "    s = env.reset()\n",
    "    r_total = 0\n",
    "    done = False\n",
    "    \n",
    "    while not done:\n",
    "        if np.random.rand(1) < e:\n",
    "            a_ind = env.action_space.sample()\n",
    "        else:\n",
    "            a_ind = sess.run(network.predict, feed_dict={network.states: [s]})[0]\n",
    "        s1, r, done, _ = env.step(a_ind)\n",
    "        \n",
    "        experience.append((s, possible_actions[a_ind], r, s1, done))\n",
    "        \n",
    "        r_total += r\n",
    "        s = s1\n",
    "        if done:\n",
    "            if e > e_min:\n",
    "                e *= e_decay\n",
    "            if episode % 10 == 0:\n",
    "                print(\"EPIDOSE {:0>5}: {}\".format(episode, np.mean(rlist[-10:-1])))\n",
    "        \n",
    "        if len(experience) > batch_size:\n",
    "            minibatch = random.sample(experience, batch_size)\n",
    "            states_mb = np.array([i[0] for i in minibatch])\n",
    "            actions_mb = np.array([i[1] for i in minibatch])\n",
    "            rewards_mb = np.array([i[2] for i in minibatch])\n",
    "            next_states_mb = np.array([i[3] for i in minibatch])\n",
    "            dones_mb = np.array([i[4] for i in minibatch])\n",
    "            \n",
    "            Qtarget = []\n",
    "            Qnext_state = sess.run(network.Qout, feed_dict={network.states: next_states_mb})\n",
    "            for i in range(batch_size):\n",
    "                target = rewards_mb[i]\n",
    "                if not dones_mb[i]:\n",
    "                    target += gamma * np.max(Qnext_state[i])\n",
    "                Qtarget.append(target)\n",
    "            loss, _ = sess.run([network.loss, network.optimize], feed_dict={network.states: states_mb,\n",
    "                                                                           network.Qtarget: Qtarget,\n",
    "                                                                           network.action: actions_mb})\n",
    "\n",
    "    rlist.append(r_total)"
   ]
  },
  {
   "cell_type": "code",
   "execution_count": 10,
   "metadata": {
    "ExecuteTime": {
     "end_time": "2018-10-15T11:50:48.191568Z",
     "start_time": "2018-10-15T11:50:45.403843Z"
    }
   },
   "outputs": [
    {
     "name": "stdout",
     "output_type": "stream",
     "text": [
      "167.0\n"
     ]
    }
   ],
   "source": [
    "s = env.reset()\n",
    "# for i in range(3): env.step(0)\n",
    "r_total = 0\n",
    "done = False\n",
    "while True:\n",
    "    env.render()\n",
    "    a = sess.run(network.predict, feed_dict={network.states: [s]})[0]\n",
    "    s, r, done, _ = env.step(a)\n",
    "    r_total += r\n",
    "    #print(done)\n",
    "    if done == True:\n",
    "        print(r_total)\n",
    "        break"
   ]
  },
  {
   "cell_type": "code",
   "execution_count": 11,
   "metadata": {
    "ExecuteTime": {
     "end_time": "2018-10-15T11:50:50.154084Z",
     "start_time": "2018-10-15T11:50:50.133413Z"
    }
   },
   "outputs": [],
   "source": [
    "env.close()"
   ]
  },
  {
   "cell_type": "code",
   "execution_count": null,
   "metadata": {},
   "outputs": [],
   "source": []
  }
 ],
 "metadata": {
  "kernelspec": {
   "display_name": "Python (py36rl)",
   "language": "python",
   "name": "py36rl"
  },
  "language_info": {
   "codemirror_mode": {
    "name": "ipython",
    "version": 3
   },
   "file_extension": ".py",
   "mimetype": "text/x-python",
   "name": "python",
   "nbconvert_exporter": "python",
   "pygments_lexer": "ipython3",
   "version": "3.6.6"
  },
  "toc": {
   "base_numbering": 1,
   "nav_menu": {},
   "number_sections": true,
   "sideBar": true,
   "skip_h1_title": false,
   "title_cell": "Table of Contents",
   "title_sidebar": "Contents",
   "toc_cell": false,
   "toc_position": {},
   "toc_section_display": true,
   "toc_window_display": true
  },
  "varInspector": {
   "cols": {
    "lenName": 16,
    "lenType": 16,
    "lenVar": 40
   },
   "kernels_config": {
    "python": {
     "delete_cmd_postfix": "",
     "delete_cmd_prefix": "del ",
     "library": "var_list.py",
     "varRefreshCmd": "print(var_dic_list())"
    },
    "r": {
     "delete_cmd_postfix": ") ",
     "delete_cmd_prefix": "rm(",
     "library": "var_list.r",
     "varRefreshCmd": "cat(var_dic_list()) "
    }
   },
   "types_to_exclude": [
    "module",
    "function",
    "builtin_function_or_method",
    "instance",
    "_Feature"
   ],
   "window_display": false
  }
 },
 "nbformat": 4,
 "nbformat_minor": 2
}
